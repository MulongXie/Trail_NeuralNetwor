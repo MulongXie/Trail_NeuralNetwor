{
 "cells": [
  {
   "cell_type": "code",
   "execution_count": 1,
   "metadata": {},
   "outputs": [],
   "source": [
    "import nn_imgProcessing as ip\n",
    "\n",
    "root = 'D:\\\\datasets\\\\Trail_NN\\\\flower_pic'"
   ]
  },
  {
   "cell_type": "code",
   "execution_count": 2,
   "metadata": {},
   "outputs": [
    {
     "name": "stdout",
     "output_type": "stream",
     "text": [
      "*** label: daisy ***\n",
      "*** label: dandelion ***\n",
      "*** label: roses ***\n",
      "*** label: sunflowers ***\n",
      "*** label: tulips ***\n"
     ]
    }
   ],
   "source": [
    "img, label = ip.load_image_flower(root)"
   ]
  },
  {
   "cell_type": "code",
   "execution_count": 3,
   "metadata": {},
   "outputs": [
    {
     "data": {
      "text/plain": [
       "array([[[228, 220, 213],\n",
       "        [220, 212, 212],\n",
       "        [215, 207, 207],\n",
       "        ...,\n",
       "        [ 14,   9,  11],\n",
       "        [ 11,   6,   7],\n",
       "        [ 14,  10,   9]],\n",
       "\n",
       "       [[222, 215, 206],\n",
       "        [228, 221, 218],\n",
       "        [226, 218, 218],\n",
       "        ...,\n",
       "        [ 12,   7,   8],\n",
       "        [ 12,   7,   8],\n",
       "        [ 11,   7,   6]],\n",
       "\n",
       "       [[234, 226, 219],\n",
       "        [225, 218, 215],\n",
       "        [228, 220, 220],\n",
       "        ...,\n",
       "        [ 12,   7,   8],\n",
       "        [ 15,  11,  10],\n",
       "        [ 10,   6,   5]],\n",
       "\n",
       "       ...,\n",
       "\n",
       "       [[232, 229, 221],\n",
       "        [228, 224, 219],\n",
       "        [226, 219, 216],\n",
       "        ...,\n",
       "        [160, 172, 178],\n",
       "        [160, 170, 177],\n",
       "        [150, 158, 165]],\n",
       "\n",
       "       [[235, 230, 227],\n",
       "        [232, 227, 226],\n",
       "        [239, 231, 232],\n",
       "        ...,\n",
       "        [162, 168, 181],\n",
       "        [164, 168, 179],\n",
       "        [151, 156, 165]],\n",
       "\n",
       "       [[236, 229, 226],\n",
       "        [243, 236, 233],\n",
       "        [237, 231, 224],\n",
       "        ...,\n",
       "        [157, 173, 186],\n",
       "        [156, 163, 178],\n",
       "        [150, 147, 162]]], dtype=uint8)"
      ]
     },
     "execution_count": 3,
     "metadata": {},
     "output_type": "execute_result"
    }
   ],
   "source": [
    "import"
   ]
  },
  {
   "cell_type": "code",
   "execution_count": null,
   "metadata": {},
   "outputs": [],
   "source": []
  }
 ],
 "metadata": {
  "kernelspec": {
   "display_name": "Python 3",
   "language": "python",
   "name": "python3"
  },
  "language_info": {
   "codemirror_mode": {
    "name": "ipython",
    "version": 3
   },
   "file_extension": ".py",
   "mimetype": "text/x-python",
   "name": "python",
   "nbconvert_exporter": "python",
   "pygments_lexer": "ipython3",
   "version": "3.5.5"
  },
  "widgets": {
   "state": {},
   "version": "1.1.2"
  }
 },
 "nbformat": 4,
 "nbformat_minor": 1
}
