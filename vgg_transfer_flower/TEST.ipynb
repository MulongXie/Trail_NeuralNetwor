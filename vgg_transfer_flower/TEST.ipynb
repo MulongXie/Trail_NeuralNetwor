{
 "cells": [
  {
   "cell_type": "code",
   "execution_count": 1,
   "metadata": {},
   "outputs": [],
   "source": [
    "import nn_imgProcessing as ip\n",
    "import nn_model\n",
    "\n",
    "import numpy as np\n",
    "import cv2"
   ]
  },
  {
   "cell_type": "code",
   "execution_count": 3,
   "metadata": {},
   "outputs": [
    {
     "name": "stdout",
     "output_type": "stream",
     "text": [
      "--- label: daisy 0 ---\n",
      "--- label: dandelion 1 ---\n",
      "--- label: roses 2 ---\n",
      "--- label: sunflowers 3 ---\n",
      "--- label: tulips 4 ---\n",
      "(3670, 64, 64, 3)\n",
      "(3670,)\n"
     ]
    }
   ],
   "source": [
    "root = 'D:\\\\datasets\\\\Trail_NN\\\\flower_pic'\n",
    "# *** load the flatten image data and decimal number label ***\n",
    "x, y_org = ip.load_image_flower(root)\n",
    "\n",
    "# *** transfer the label into class_number dimensions matrix ***\n",
    "y = ip.expand(y_org, 5)  # label has 5 classes\n",
    "\n",
    "# *** split the train and test data ***\n",
    "split = 700\n",
    "x_train = x[:-split]\n",
    "y_train = y[:-split]\n",
    "y_org_train = y_org[:-split]\n",
    "x_test = x[-split:]\n",
    "y_test = y[-split:]\n",
    "y_org_test = y_org[-split:]"
   ]
  },
  {
   "cell_type": "code",
   "execution_count": 6,
   "metadata": {},
   "outputs": [
    {
     "name": "stdout",
     "output_type": "stream",
     "text": [
      "INFO:tensorflow:Restoring parameters from D:\\datasets\\Trail_NN\\trained_model_flower\\flower\n",
      "tulips\n"
     ]
    },
    {
     "data": {
      "text/plain": [
       "-1"
      ]
     },
     "execution_count": 6,
     "metadata": {},
     "output_type": "execute_result"
    }
   ],
   "source": [
    "test_index = 670\n",
    "y_hat = nn_model.predict(x_test[test_index], load_path='D:\\\\datasets\\\\Trail_NN\\\\trained_model_flower')\n",
    "cv2.imshow('img', cv2.resize(x_test[test_index], (200, 200)))\n",
    "cv2.waitKey(0)"
   ]
  },
  {
   "cell_type": "code",
   "execution_count": null,
   "metadata": {},
   "outputs": [],
   "source": []
  }
 ],
 "metadata": {
  "kernelspec": {
   "display_name": "Python 3",
   "language": "python",
   "name": "python3"
  },
  "language_info": {
   "codemirror_mode": {
    "name": "ipython",
    "version": 3
   },
   "file_extension": ".py",
   "mimetype": "text/x-python",
   "name": "python",
   "nbconvert_exporter": "python",
   "pygments_lexer": "ipython3",
   "version": "3.5.5"
  },
  "widgets": {
   "state": {},
   "version": "1.1.2"
  }
 },
 "nbformat": 4,
 "nbformat_minor": 1
}
