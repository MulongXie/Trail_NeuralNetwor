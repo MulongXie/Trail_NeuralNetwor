{
 "cells": [
  {
   "cell_type": "code",
   "execution_count": 1,
   "metadata": {},
   "outputs": [],
   "source": [
    "import nn_imgProcessing as ip\n",
    "\n",
    "root = 'D:\\\\datasets\\\\Trail_NN\\\\flower_pic'"
   ]
  },
  {
   "cell_type": "code",
   "execution_count": 3,
   "metadata": {},
   "outputs": [],
   "source": [
    "import cv2\n",
    "import numpy as np"
   ]
  },
  {
   "cell_type": "code",
   "execution_count": 9,
   "metadata": {},
   "outputs": [
    {
     "name": "stdout",
     "output_type": "stream",
     "text": [
      "*** label: daisy 0 ***\n",
      "*** label: dandelion 1 ***\n",
      "*** label: roses 2 ***\n",
      "*** label: sunflowers 3 ***\n",
      "*** label: tulips 4 ***\n",
      "(3670,)\n",
      "3670\n"
     ]
    }
   ],
   "source": [
    "# *** load the flatten image data and decimal number label ***\n",
    "x, y_org = ip.load_image_flower(root)\n",
    "\n",
    "# *** transfer the label into class_number dimensions matrix ***\n",
    "y = ip.expand(y_org, 5)  # label has 5 classes\n",
    "\n",
    "# *** split the train and test data ***\n",
    "split = 700\n",
    "x_train = x[:-split]\n",
    "y_train = y[:-split]\n",
    "x_test = x[-split:]\n",
    "y_test = y[-split:]\n",
    "y_org_test = y_org[-split:]\n"
   ]
  },
  {
   "cell_type": "code",
   "execution_count": 14,
   "metadata": {},
   "outputs": [
    {
     "data": {
      "text/plain": [
       "array([1, 1, 3, 2, 1, 1, 4, 3, 2, 1, 1, 4, 4, 1, 4, 2, 1, 3, 0, 1, 3, 3,\n",
       "       3, 4, 1, 4, 2, 1, 1, 4, 1, 1, 1, 0, 1, 4, 0, 1, 4, 2])"
      ]
     },
     "execution_count": 14,
     "metadata": {},
     "output_type": "execute_result"
    }
   ],
   "source": [
    "y_org_test[:40]"
   ]
  },
  {
   "cell_type": "code",
   "execution_count": 8,
   "metadata": {},
   "outputs": [
    {
     "data": {
      "text/plain": [
       "-1"
      ]
     },
     "execution_count": 8,
     "metadata": {},
     "output_type": "execute_result"
    }
   ],
   "source": [
    "cv2.imshow('img', img[7])\n",
    "cv2.waitKey(0)"
   ]
  },
  {
   "cell_type": "code",
   "execution_count": null,
   "metadata": {},
   "outputs": [],
   "source": []
  }
 ],
 "metadata": {
  "kernelspec": {
   "display_name": "Python 3",
   "language": "python",
   "name": "python3"
  },
  "language_info": {
   "codemirror_mode": {
    "name": "ipython",
    "version": 3
   },
   "file_extension": ".py",
   "mimetype": "text/x-python",
   "name": "python",
   "nbconvert_exporter": "python",
   "pygments_lexer": "ipython3",
   "version": "3.5.5"
  },
  "widgets": {
   "state": {},
   "version": "1.1.2"
  }
 },
 "nbformat": 4,
 "nbformat_minor": 1
}
