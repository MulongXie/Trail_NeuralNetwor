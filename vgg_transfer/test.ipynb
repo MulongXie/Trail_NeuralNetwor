{
 "cells": [
  {
   "cell_type": "code",
   "execution_count": 1,
   "metadata": {},
   "outputs": [],
   "source": [
    "import imgProcessing as ip\n",
    "import vgg16\n",
    "import model\n",
    "\n",
    "import numpy as np"
   ]
  },
  {
   "cell_type": "code",
   "execution_count": 2,
   "metadata": {},
   "outputs": [
    {
     "name": "stdout",
     "output_type": "stream",
     "text": [
      "****************end*******************\n",
      "(1187, 224, 224, 3)\n",
      "1187\n",
      "(987, 224, 224, 3)\n",
      "(987, 2)\n"
     ]
    }
   ],
   "source": [
    "# *** load the flatten image data and decimal number label ***\n",
    "x, y = ip.load_image_join_path()\n",
    "\n",
    "# *** transfer the label into class_number dimensions matrix ***\n",
    "y = ip.expand(y, 2)  # label has 2 classes\n",
    "\n",
    "\n",
    "# *** split the train and test data ***\n",
    "x_train_org = x[:-200]\n",
    "x_train = x_train_org / 255.\n",
    "y_train = y[:-200]\n",
    "x_test_org = x[-200:]\n",
    "x_test = x_test_org / 255.\n",
    "y_test = y[-200:]\n",
    "\n",
    "print(np.shape(x_train))\n",
    "print(np.shape(y_train))"
   ]
  },
  {
   "cell_type": "code",
   "execution_count": 3,
   "metadata": {},
   "outputs": [
    {
     "data": {
      "text/plain": [
       "array([[0., 1.],\n",
       "       [0., 1.],\n",
       "       [1., 0.],\n",
       "       ...,\n",
       "       [0., 1.],\n",
       "       [1., 0.],\n",
       "       [0., 1.]])"
      ]
     },
     "execution_count": 3,
     "metadata": {},
     "output_type": "execute_result"
    }
   ],
   "source": [
    "y_train"
   ]
  },
  {
   "cell_type": "code",
   "execution_count": null,
   "metadata": {},
   "outputs": [],
   "source": []
  }
 ],
 "metadata": {
  "kernelspec": {
   "display_name": "Python 3",
   "language": "python",
   "name": "python3"
  },
  "language_info": {
   "codemirror_mode": {
    "name": "ipython",
    "version": 3
   },
   "file_extension": ".py",
   "mimetype": "text/x-python",
   "name": "python",
   "nbconvert_exporter": "python",
   "pygments_lexer": "ipython3",
   "version": "3.5.5"
  },
  "widgets": {
   "state": {},
   "version": "1.1.2"
  }
 },
 "nbformat": 4,
 "nbformat_minor": 1
}
